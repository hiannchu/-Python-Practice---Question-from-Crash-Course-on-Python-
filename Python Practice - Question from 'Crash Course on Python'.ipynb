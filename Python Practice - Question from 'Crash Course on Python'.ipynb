{
 "cells": [
  {
   "cell_type": "markdown",
   "id": "eb662174",
   "metadata": {},
   "source": [
    "# Python Practice - Question from 'Crash Course on Python'"
   ]
  },
  {
   "cell_type": "markdown",
   "id": "571b9b58",
   "metadata": {},
   "source": [
    "***"
   ]
  },
  {
   "cell_type": "markdown",
   "id": "2b3dd2ef",
   "metadata": {},
   "source": [
    "## About "
   ]
  },
  {
   "cell_type": "markdown",
   "id": "ffbbf2f5",
   "metadata": {},
   "source": [
    "These are from the Google IT certificate course \"Crash Course on Python\", you can fin the course on Coursera. <br/>\n",
    "Here I am to share my solution for some questions, which I consider are worth to practice.\n",
    "\n",
    "I highly commended to sign up for this course⭐️"
   ]
  },
  {
   "cell_type": "markdown",
   "id": "cc4b8b22",
   "metadata": {},
   "source": [
    "***"
   ]
  },
  {
   "cell_type": "markdown",
   "id": "07eb7482",
   "metadata": {},
   "source": [
    "### 01"
   ]
  },
  {
   "cell_type": "markdown",
   "id": "68b5df64",
   "metadata": {},
   "source": [
    "Fill in the blanks to make the print_prime_factors function print all the prime factors of a number.<br/>A prime factor is a number that is prime and divides another without a remainder."
   ]
  },
  {
   "cell_type": "code",
   "execution_count": null,
   "id": "2d384d39",
   "metadata": {},
   "outputs": [],
   "source": [
    "def print_prime_factors(number):\n",
    "  # Start with two, which is the first prime\n",
    "  factor = ___\n",
    "  # Keep going until the factor is larger than the number\n",
    "  while factor <= number:\n",
    "    # Check if factor is a divisor of number\n",
    "    if number % factor == ___:\n",
    "      # If it is, print it and divide the original number\n",
    "      print(factor)\n",
    "      number = number / factor\n",
    "    else:\n",
    "      # If it's not, increment the factor by one\n",
    "      ___\n",
    "  return \"Done\"\n",
    "\n",
    "print_prime_factors(100)\n",
    "# Should print 2,2,5,5\n",
    "# DO NOT DELETE THIS COMMENT"
   ]
  },
  {
   "cell_type": "markdown",
   "id": "7660d5c7",
   "metadata": {},
   "source": [
    "Solution:"
   ]
  },
  {
   "cell_type": "code",
   "execution_count": 2,
   "id": "7033a692",
   "metadata": {},
   "outputs": [
    {
     "name": "stdout",
     "output_type": "stream",
     "text": [
      "2\n",
      "2\n",
      "5\n",
      "5\n"
     ]
    },
    {
     "data": {
      "text/plain": [
       "'Done'"
      ]
     },
     "execution_count": 2,
     "metadata": {},
     "output_type": "execute_result"
    }
   ],
   "source": [
    "def print_prime_factors(number):\n",
    "  # Start with two, which is the first prime\n",
    "  factor = 2\n",
    "  # Keep going until the factor is larger than the number\n",
    "  while factor <= number:\n",
    "    # Check if factor is a divisor of number\n",
    "    if number % factor == 0:\n",
    "      # If it is, print it and divide the original number\n",
    "      print(factor)\n",
    "      number = number / factor\n",
    "    else:\n",
    "      factor += 1\n",
    "      # If it's not, increment the factor by one\n",
    "      \n",
    "  return \"Done\"\n",
    "\n",
    "print_prime_factors(100)\n",
    "# Should print 2,2,5,5\n",
    "# DO NOT DELETE THIS COMMENT"
   ]
  },
  {
   "cell_type": "markdown",
   "id": "3c39e20a",
   "metadata": {},
   "source": [
    "### 02"
   ]
  },
  {
   "cell_type": "markdown",
   "id": "69711a60",
   "metadata": {},
   "source": [
    "The following code can lead to an infinite loop. Fix the code so that it can finish successfully for all numbers.<br/>\n",
    "Note: Try running your function with the number 0 as the input, and see what you get!"
   ]
  },
  {
   "cell_type": "code",
   "execution_count": null,
   "id": "57b9a880",
   "metadata": {},
   "outputs": [],
   "source": [
    "def is_power_of_two(n):\n",
    "  # Check if the number can be divided by two without a remainder\n",
    "  while n % 2 == 0:\n",
    "    n = n / 2\n",
    "  # If after dividing by two the number is 1, it's a power of two\n",
    "  if n == 1:\n",
    "    return True\n",
    "  return False\n",
    "  \n",
    "\n",
    "print(is_power_of_two(0)) # Should be False\n",
    "print(is_power_of_two(1)) # Should be True\n",
    "print(is_power_of_two(8)) # Should be True\n",
    "print(is_power_of_two(9)) # Should be False"
   ]
  },
  {
   "cell_type": "markdown",
   "id": "1b62211b",
   "metadata": {},
   "source": [
    "Solution:"
   ]
  },
  {
   "cell_type": "code",
   "execution_count": 2,
   "id": "e0cd1995",
   "metadata": {},
   "outputs": [
    {
     "name": "stdout",
     "output_type": "stream",
     "text": [
      "False\n",
      "True\n",
      "True\n",
      "False\n"
     ]
    }
   ],
   "source": [
    "def is_power_of_two(n):\n",
    "  # Check if the number can be divided by two without a remainder\n",
    "  while n % 2 == 0:\n",
    "    n = n / 2\n",
    "    break\n",
    "  # If after dividing by two the number is 1, it's a power of two\n",
    "  if n == 1 or n % 2 == 0 and n != 0:\n",
    "    return True\n",
    "  return False\n",
    "  \n",
    "\n",
    "print(is_power_of_two(0)) # Should be False\n",
    "print(is_power_of_two(1)) # Should be True\n",
    "print(is_power_of_two(8)) # Should be True\n",
    "print(is_power_of_two(9)) # Should be False"
   ]
  },
  {
   "cell_type": "markdown",
   "id": "c9fb5e3d",
   "metadata": {},
   "source": [
    "### 03"
   ]
  },
  {
   "cell_type": "markdown",
   "id": "6f5750ac",
   "metadata": {},
   "source": [
    "Fill in the empty function so that it returns the sum of all the divisors of a number, without including it.<br/>\n",
    "A divisor is a number that divides into another without a remainder."
   ]
  },
  {
   "cell_type": "code",
   "execution_count": null,
   "id": "7d5d46ea",
   "metadata": {},
   "outputs": [],
   "source": [
    "def sum_divisors(n):\n",
    "  sum = 0\n",
    "  # Return the sum of all divisors of n, not including n\n",
    "  return sum\n",
    "\n",
    "print(sum_divisors(0))\n",
    "# 0\n",
    "print(sum_divisors(3)) # Should sum of 1\n",
    "# 1\n",
    "print(sum_divisors(36)) # Should sum of 1+2+3+4+6+9+12+18\n",
    "# 55\n",
    "print(sum_divisors(102)) # Should be sum of 2+3+6+17+34+51\n",
    "# 114"
   ]
  },
  {
   "cell_type": "markdown",
   "id": "4014ec54",
   "metadata": {},
   "source": [
    "Solution:"
   ]
  },
  {
   "cell_type": "code",
   "execution_count": 3,
   "id": "b0eb3b5b",
   "metadata": {},
   "outputs": [
    {
     "name": "stdout",
     "output_type": "stream",
     "text": [
      "0\n",
      "1\n",
      "55\n",
      "114\n"
     ]
    }
   ],
   "source": [
    "def sum_divisors(n): \n",
    "    sum = 0\n",
    "    z = 1\n",
    "\n",
    "    while n > z:\n",
    "        if n % z == 0:\n",
    "            sum = sum + z\n",
    "            z = z + 1\n",
    "        else:\n",
    "            z = z + 1\n",
    "    # Return the sum of all divisors of n, not including n\n",
    "    return sum\n",
    "\n",
    "print(sum_divisors(0))\n",
    "# 0\n",
    "print(sum_divisors(3)) # Should sum of 1\n",
    "# 1\n",
    "print(sum_divisors(36)) # Should sum of 1+2+3+4+6+9+12+18\n",
    "# 55\n",
    "print(sum_divisors(102)) # Should be sum of 2+3+6+17+34+51\n",
    "# 114"
   ]
  },
  {
   "cell_type": "markdown",
   "id": "93a7af99",
   "metadata": {},
   "source": [
    "### 04"
   ]
  },
  {
   "cell_type": "markdown",
   "id": "4bf60b5d",
   "metadata": {},
   "source": [
    "The multiplication_table function prints the results of a number passed to it multiplied by 1 through 5.<br/>\n",
    "An additional requirement is that the result is not to exceed 25, which is done with the break statement.<br/>\n",
    "Fill in the blanks to complete the function to satisfy these conditions."
   ]
  },
  {
   "cell_type": "code",
   "execution_count": null,
   "id": "2a918370",
   "metadata": {},
   "outputs": [],
   "source": [
    "def multiplication_table(number):\n",
    "\t# Initialize the starting point of the multiplication table\n",
    "\tmultiplier = 1\n",
    "\t# Only want to loop through 5\n",
    "\twhile multiplier <= 5:\n",
    "\t\tresult = ___ \n",
    "\t\t# What is the additional condition to exit out of the loop?\n",
    "\t\tif ___ :\n",
    "\t\t\tbreak\n",
    "\t\tprint(str(number) + \"x\" + str(multiplier) + \"=\" + str(result))\n",
    "\t\t# Increment the variable for the loop\n",
    "\t\t___ += 1\n",
    "\n",
    "multiplication_table(3) \n",
    "# Should print: 3x1=3 3x2=6 3x3=9 3x4=12 3x5=15\n",
    "\n",
    "multiplication_table(5) \n",
    "# Should print: 5x1=5 5x2=10 5x3=15 5x4=20 5x5=25\n",
    "\n",
    "multiplication_table(8)\t\n",
    "# Should print: 8x1=8 8x2=16 8x3=24"
   ]
  },
  {
   "cell_type": "markdown",
   "id": "0ad4c451",
   "metadata": {},
   "source": [
    "Solution:"
   ]
  },
  {
   "cell_type": "code",
   "execution_count": 11,
   "id": "922c6001",
   "metadata": {},
   "outputs": [
    {
     "name": "stdout",
     "output_type": "stream",
     "text": [
      "3x1=3\n",
      "3x2=6\n",
      "3x3=9\n",
      "3x4=12\n",
      "3x5=15\n",
      "5x1=5\n",
      "5x2=10\n",
      "5x3=15\n",
      "5x4=20\n",
      "5x5=25\n",
      "8x1=8\n",
      "8x2=16\n",
      "8x3=24\n"
     ]
    }
   ],
   "source": [
    "def multiplication_table(number):\n",
    "\t# Initialize the starting point of the multiplication table\n",
    "\tmultiplier = 1\n",
    "\t# Only want to loop through 5\n",
    "\twhile multiplier <= 5:\n",
    "\t\tresult = number * multiplier\n",
    "\t\t# What is the additional condition to exit out of the loop?\n",
    "\t\tif result > 25 :\n",
    "\t\t\tbreak\n",
    "\t\tprint(str(number) + \"x\" + str(multiplier) + \"=\" + str(result))\n",
    "\t\t# Increment the variable for the loop\n",
    "\t\tmultiplier += 1\n",
    "\n",
    "multiplication_table(3) \n",
    "# Should print: 3x1=3 3x2=6 3x3=9 3x4=12 3x5=15\n",
    "\n",
    "multiplication_table(5) \n",
    "# Should print: 5x1=5 5x2=10 5x3=15 5x4=20 5x5=25\n",
    "\n",
    "multiplication_table(8)\t\n",
    "# Should print: 8x1=8 8x2=16 8x3=24"
   ]
  },
  {
   "cell_type": "markdown",
   "id": "445dab8e",
   "metadata": {},
   "source": [
    "### 05"
   ]
  },
  {
   "cell_type": "markdown",
   "id": "ffd1ea28",
   "metadata": {},
   "source": [
    "The following code causes an infinite loop. Can you figure out what’s missing and how to fix it?"
   ]
  },
  {
   "cell_type": "code",
   "execution_count": null,
   "id": "bcfaf02d",
   "metadata": {},
   "outputs": [],
   "source": [
    "def print_range(start, end):\n",
    "\t# Loop through the numbers from start to end\n",
    "\tn = start\n",
    "\twhile n <= end:\n",
    "\t\tprint(n)\n",
    "\n",
    "print_range(1, 5)  # Should print 1 2 3 4 5 (each number on its own line) "
   ]
  },
  {
   "cell_type": "markdown",
   "id": "2d2e23d8",
   "metadata": {},
   "source": [
    "Solution:"
   ]
  },
  {
   "cell_type": "code",
   "execution_count": 4,
   "id": "4e8a00b9",
   "metadata": {},
   "outputs": [
    {
     "name": "stdout",
     "output_type": "stream",
     "text": [
      "1\n",
      "2\n",
      "3\n",
      "4\n",
      "5\n"
     ]
    }
   ],
   "source": [
    "def print_range(start, end):\n",
    "\t# Loop through the numbers from start to end\n",
    "\twhile start <= end:\n",
    "\t\tprint(start)\n",
    "\t\tstart += 1\n",
    "\t\t\n",
    "\n",
    "\t\t\n",
    "\n",
    "\n",
    "\n",
    "print_range(1, 5)  # Should print 1 2 3 4 5 (each number on its own line) "
   ]
  },
  {
   "cell_type": "markdown",
   "id": "51d59bcd",
   "metadata": {},
   "source": [
    "### 06"
   ]
  },
  {
   "cell_type": "markdown",
   "id": "d0dd1bd3",
   "metadata": {},
   "source": [
    "In math, the factorial of a number is defined as the product of an integer and all the integers below it.<br/>\n",
    "For example, the factorial of four (4!) is equal to 1*2*3*4=24.<br/>\n",
    "Fill in the blanks to make the factorial function return the right number."
   ]
  },
  {
   "cell_type": "code",
   "execution_count": null,
   "id": "b0f35a91",
   "metadata": {},
   "outputs": [],
   "source": [
    "def factorial(n):\n",
    "    result = 1\n",
    "    for i in ___:\n",
    "        __\n",
    "    return result\n",
    "\n",
    "print(factorial(4)) # should return 24\n",
    "print(factorial(5)) # should return 120"
   ]
  },
  {
   "cell_type": "markdown",
   "id": "3c0d8aee",
   "metadata": {},
   "source": [
    "Solution:"
   ]
  },
  {
   "cell_type": "code",
   "execution_count": 5,
   "id": "6862c19c",
   "metadata": {},
   "outputs": [
    {
     "name": "stdout",
     "output_type": "stream",
     "text": [
      "24\n",
      "120\n"
     ]
    }
   ],
   "source": [
    "def factorial(n):\n",
    "    result = 1\n",
    "    for i in range(1, n):\n",
    "        result = result * (i+1)\n",
    "    return result\n",
    "\n",
    "print(factorial(4)) # should return 24\n",
    "print(factorial(5)) # should return 120"
   ]
  },
  {
   "cell_type": "markdown",
   "id": "a4b89365",
   "metadata": {},
   "source": [
    "### 07"
   ]
  },
  {
   "cell_type": "markdown",
   "id": "4bd35c15",
   "metadata": {},
   "source": [
    "The validate_users function is used by the system to check if a list of users is valid or invalid.<br/>\n",
    "A valid user is one that is at least 3 characters long. <br/>\n",
    "For example, ['taylor', 'luisa', 'jamaal'] are all valid users.<br/> \n",
    "When calling it like in this example, something is not right. Can you figure out what to fix?"
   ]
  },
  {
   "cell_type": "code",
   "execution_count": null,
   "id": "d1edda2a",
   "metadata": {},
   "outputs": [],
   "source": [
    "def validate_users(users):\n",
    "  for user in users:\n",
    "    if is_valid(user):\n",
    "      print(user + \" is valid\")\n",
    "    else:\n",
    "      print(user + \" is invalid\")\n",
    "\n",
    "validate_users(\"purplecat\")"
   ]
  },
  {
   "cell_type": "markdown",
   "id": "e1936399",
   "metadata": {},
   "source": [
    "Solution:"
   ]
  },
  {
   "cell_type": "code",
   "execution_count": 6,
   "id": "1224156e",
   "metadata": {},
   "outputs": [
    {
     "name": "stdout",
     "output_type": "stream",
     "text": [
      "purplecat is valid\n"
     ]
    },
    {
     "data": {
      "text/plain": [
       "9"
      ]
     },
     "execution_count": 6,
     "metadata": {},
     "output_type": "execute_result"
    }
   ],
   "source": [
    "def validate_users(user):\n",
    "    counter = 0\n",
    "    for letter in user:\n",
    "        counter += 1\n",
    "    if counter >= 3:\n",
    "        print(user + \" is valid\")\n",
    "    else:\n",
    "        print(user + \" is invalid\")\n",
    "    return counter\n",
    "\n",
    "validate_users(\"purplecat\")"
   ]
  },
  {
   "cell_type": "markdown",
   "id": "808218d3",
   "metadata": {},
   "source": [
    "### 08"
   ]
  },
  {
   "cell_type": "markdown",
   "id": "ff83ca76",
   "metadata": {},
   "source": [
    "Fill in the blanks to make the factorial function return the factorial of n. <br/>\n",
    "Then, print the first 10 factorials (from 0 to 9) with the corresponding number. <br/>\n",
    "Remember that the factorial of a number is defined as the product of an integer and all integers before it. <br/>\n",
    "For example, the factorial of five (5!) is equal to 1*2*3*4*5=120. <br/>\n",
    "Also recall that the factorial of zero (0!) is equal to 1."
   ]
  },
  {
   "cell_type": "code",
   "execution_count": null,
   "id": "118d06cd",
   "metadata": {},
   "outputs": [],
   "source": [
    "def factorial(n):\n",
    "    result = 1\n",
    "    for x in range(1,___):\n",
    "        result = ___ * ___\n",
    "    return ___\n",
    "\n",
    "for n in range(___,___):\n",
    "    print(n, factorial(n+___))"
   ]
  },
  {
   "cell_type": "markdown",
   "id": "92c4556e",
   "metadata": {},
   "source": [
    "Solution:"
   ]
  },
  {
   "cell_type": "code",
   "execution_count": 10,
   "id": "c9679039",
   "metadata": {},
   "outputs": [
    {
     "name": "stdout",
     "output_type": "stream",
     "text": [
      "0 1\n",
      "1 1\n",
      "2 2\n",
      "3 6\n",
      "4 24\n",
      "5 120\n",
      "6 720\n",
      "7 5040\n",
      "8 40320\n",
      "9 362880\n"
     ]
    }
   ],
   "source": [
    "def factorial(n):\n",
    "    result = 1\n",
    "    for x in range(1,n+1):\n",
    "        result = result * x\n",
    "    return result\n",
    "\n",
    "for n in range(0,10):\n",
    "    print(n, factorial(n))"
   ]
  },
  {
   "cell_type": "markdown",
   "id": "fd2fa1b2",
   "metadata": {},
   "source": [
    "### 09"
   ]
  },
  {
   "cell_type": "markdown",
   "id": "6ab1e545",
   "metadata": {},
   "source": [
    "The even_numbers function returns a space-separated string of all positive numbers that are divisible by 2, up to and including the maximum that's passed into the function.<br/>\n",
    "For example, even_numbers(6) returns “2 4 6”. <br/>\n",
    "Fill in the blank to make this work."
   ]
  },
  {
   "cell_type": "code",
   "execution_count": null,
   "id": "3345af18",
   "metadata": {},
   "outputs": [],
   "source": [
    "def even_numbers(maximum):\n",
    "\treturn_string = \"\"\n",
    "\tfor x in ___:\n",
    "\t\treturn_string += str(x) + \" \"\n",
    "\treturn return_string.strip()\n",
    "\n",
    "print(even_numbers(6))  # Should be 2 4 6\n",
    "print(even_numbers(10)) # Should be 2 4 6 8 10\n",
    "print(even_numbers(1))  # No numbers displayed\n",
    "print(even_numbers(3))  # Should be 2\n",
    "print(even_numbers(0))  # No numbers displayed"
   ]
  },
  {
   "cell_type": "markdown",
   "id": "a5ad0884",
   "metadata": {},
   "source": [
    "Solution:"
   ]
  },
  {
   "cell_type": "code",
   "execution_count": 7,
   "id": "a8c9fca3",
   "metadata": {},
   "outputs": [
    {
     "name": "stdout",
     "output_type": "stream",
     "text": [
      "2 4 6\n",
      "2 4 6 8 10\n",
      "\n",
      "2\n",
      "\n"
     ]
    }
   ],
   "source": [
    "def even_numbers(maximum):\n",
    "\treturn_string = \"\"\n",
    "\tfor x in range(2, maximum+1, 2):\n",
    "\t\tif x % 2 == 0:\n",
    "\t\t\treturn_string += str(x) + \" \"\n",
    "\treturn return_string.strip()\n",
    "\n",
    "print(even_numbers(6))  # Should be 2 4 6\n",
    "print(even_numbers(10)) # Should be 2 4 6 8 10\n",
    "print(even_numbers(1))  # No numbers displayed\n",
    "print(even_numbers(3))  # Should be 2\n",
    "print(even_numbers(0))  # No numbers displayed"
   ]
  },
  {
   "cell_type": "markdown",
   "id": "19aa14f9",
   "metadata": {},
   "source": [
    "### 10"
   ]
  },
  {
   "cell_type": "markdown",
   "id": "9ab056e6",
   "metadata": {},
   "source": [
    "Modify the double_word function so that it returns the same word repeated twice, followed by the length of the new doubled word. <br/>\n",
    "For example, double_word(\"hello\") should return hellohello10."
   ]
  },
  {
   "cell_type": "code",
   "execution_count": null,
   "id": "ce5dd0f1",
   "metadata": {},
   "outputs": [],
   "source": [
    "def double_word(word):\n",
    "    return\n",
    "\n",
    "print(double_word(\"hello\")) # Should return hellohello10\n",
    "print(double_word(\"abc\"))   # Should return abcabc6\n",
    "print(double_word(\"\"))      # Should return 0"
   ]
  },
  {
   "cell_type": "markdown",
   "id": "9b160d78",
   "metadata": {},
   "source": [
    "Solution:"
   ]
  },
  {
   "cell_type": "code",
   "execution_count": 9,
   "id": "f20df50d",
   "metadata": {},
   "outputs": [
    {
     "name": "stdout",
     "output_type": "stream",
     "text": [
      "hellohello10\n",
      "abcabc6\n",
      "0\n"
     ]
    }
   ],
   "source": [
    "def double_word(word):\n",
    "    counter = 0\n",
    "    for letter in word:\n",
    "        if word != \"\":\n",
    "            counter += 1\n",
    "        else:\n",
    "            return 0\n",
    "    return (word * 2) + str(counter*2)\n",
    "\n",
    "print(double_word(\"hello\")) # Should return hellohello10\n",
    "print(double_word(\"abc\"))   # Should return abcabc6\n",
    "print(double_word(\"\"))      # Should return 0"
   ]
  },
  {
   "cell_type": "markdown",
   "id": "5141b2f2",
   "metadata": {},
   "source": [
    "### 11"
   ]
  },
  {
   "cell_type": "markdown",
   "id": "dfb4f18d",
   "metadata": {},
   "source": [
    "Want to give it a go yourself? <br/>\n",
    "Be my guest! <br/>\n",
    "Modify the first_and_last function so that it returns True if the first letter of the string is the same as the last letter of the string, False if they’re different. <br/>\n",
    "Remember that you can access characters using message[0] or message[-1].<br/>\n",
    "Be careful how you handle the empty string, which should return True since nothing is equal to nothing."
   ]
  },
  {
   "cell_type": "code",
   "execution_count": null,
   "id": "8089f6b7",
   "metadata": {},
   "outputs": [],
   "source": [
    "def first_and_last(message):\n",
    "    return False\n",
    "\n",
    "print(first_and_last(\"else\"))\n",
    "print(first_and_last(\"tree\"))\n",
    "print(first_and_last(\"\"))"
   ]
  },
  {
   "cell_type": "markdown",
   "id": "713fdc9d",
   "metadata": {},
   "source": [
    "Solution:"
   ]
  },
  {
   "cell_type": "code",
   "execution_count": 8,
   "id": "b308dca9",
   "metadata": {},
   "outputs": [
    {
     "name": "stdout",
     "output_type": "stream",
     "text": [
      "True\n",
      "False\n",
      "True\n"
     ]
    }
   ],
   "source": [
    "def first_and_last(message):\n",
    "\n",
    "    if message == \"\" or message[0] == message[-1]:\n",
    "        return True\n",
    "    return False\n",
    "\n",
    "print(first_and_last(\"else\"))\n",
    "print(first_and_last(\"tree\"))\n",
    "print(first_and_last(\"\"))"
   ]
  },
  {
   "cell_type": "markdown",
   "id": "b44a9ef0",
   "metadata": {},
   "source": [
    "### 12"
   ]
  },
  {
   "cell_type": "markdown",
   "id": "9a003882",
   "metadata": {},
   "source": [
    "Fill in the gaps in the initials function so that it returns the initials of the words contained in the phrase received, in upper case. <br/>\n",
    "For example: \"Universal Serial Bus\" should return \"USB\"; \"local area network\" should return \"LAN”."
   ]
  },
  {
   "cell_type": "code",
   "execution_count": null,
   "id": "3057da8e",
   "metadata": {},
   "outputs": [],
   "source": [
    "def initials(phrase):\n",
    "    words = phrase.___\n",
    "    result = \"\"\n",
    "    for word in words:\n",
    "        result += ___\n",
    "    return ___\n",
    "\n",
    "print(initials(\"Universal Serial Bus\")) # Should be: USB\n",
    "print(initials(\"local area network\")) # Should be: LAN\n",
    "print(initials(\"Operating system\")) # Should be: OS"
   ]
  },
  {
   "cell_type": "markdown",
   "id": "5333b286",
   "metadata": {},
   "source": [
    "Solution:"
   ]
  },
  {
   "cell_type": "code",
   "execution_count": 16,
   "id": "29639365",
   "metadata": {},
   "outputs": [
    {
     "name": "stdout",
     "output_type": "stream",
     "text": [
      "USB\n",
      "LAN\n",
      "OS\n"
     ]
    }
   ],
   "source": [
    "def initials(phrase):\n",
    "    words = phrase.split(\" \")\n",
    "    result = \"\"\n",
    "    for word in words:\n",
    "        result += word[0].upper()\n",
    "    return result\n",
    "\n",
    "print(initials(\"Universal Serial Bus\")) # Should be: USB\n",
    "print(initials(\"local area network\")) # Should be: LAN\n",
    "print(initials(\"Operating system\")) # Should be: OS"
   ]
  },
  {
   "cell_type": "markdown",
   "id": "88583552",
   "metadata": {},
   "source": [
    "### 13"
   ]
  },
  {
   "cell_type": "markdown",
   "id": "0d661218",
   "metadata": {},
   "source": [
    "Modify the student_grade function using the format method, so that it returns the phrase \"X received Y% on the exam\".<br/>\n",
    "For example, student_grade(\"Reed\", 80) should return \"Reed received 80% on the exam\"."
   ]
  },
  {
   "cell_type": "code",
   "execution_count": null,
   "id": "2fcfb1fa",
   "metadata": {},
   "outputs": [],
   "source": [
    "def student_grade(name, grade):\n",
    "\treturn \"\"\n",
    "\n",
    "print(student_grade(\"Reed\", 80))\n",
    "print(student_grade(\"Paige\", 92))\n",
    "print(student_grade(\"Jesse\", 85))"
   ]
  },
  {
   "cell_type": "markdown",
   "id": "d69d8bd1",
   "metadata": {},
   "source": [
    "Solution:"
   ]
  },
  {
   "cell_type": "code",
   "execution_count": 17,
   "id": "b275b6f7",
   "metadata": {},
   "outputs": [
    {
     "name": "stdout",
     "output_type": "stream",
     "text": [
      "Reed received 80% on the exam\n",
      "Paige received 92% on the exam\n",
      "Jesse received 85% on the exam\n"
     ]
    }
   ],
   "source": [
    "def student_grade(name, grade):\n",
    "\treturn ('{} received {}% on the exam'.format(name, grade))\n",
    "\n",
    "print(student_grade(\"Reed\", 80))\n",
    "print(student_grade(\"Paige\", 92))\n",
    "print(student_grade(\"Jesse\", 85))"
   ]
  },
  {
   "cell_type": "markdown",
   "id": "0536be6d",
   "metadata": {},
   "source": [
    "### 14"
   ]
  },
  {
   "cell_type": "markdown",
   "id": "2b05b298",
   "metadata": {},
   "source": [
    "The replace_ending function replaces the old string in a sentence with the new string, but only if the sentence ends with the old string. <br/>\n",
    "If there is more than one occurrence of the old string in the sentence, only the one at the end is replaced, not all of them. <br/>\n",
    "For example, replace_ending(\"abcabc\", \"abc\", \"xyz\") should return abcxyz, not xyzxyz or xyzabc. <br/>\n",
    "The string comparison is case-sensitive, so replace_ending(\"abcabc\", \"ABC\", \"xyz\") should return abcabc (no changes made). "
   ]
  },
  {
   "cell_type": "code",
   "execution_count": null,
   "id": "d43a3b53",
   "metadata": {},
   "outputs": [],
   "source": [
    "def replace_ending(sentence, old, new):\n",
    "\t# Check if the old string is at the end of the sentence \n",
    "\tif ___:\n",
    "\t\t# Using i as the slicing index, combine the part\n",
    "\t\t# of the sentence up to the matched string at the \n",
    "\t\t# end with the new string\n",
    "\t\ti = ___\n",
    "\t\tnew_sentence = ___\n",
    "\t\treturn new_sentence\n",
    "\n",
    "\t# Return the original sentence if there is no match \n",
    "\treturn sentence\n",
    "\t\n",
    "print(replace_ending(\"It's raining cats and cats\", \"cats\", \"dogs\")) \n",
    "# Should display \"It's raining cats and dogs\"\n",
    "print(replace_ending(\"She sells seashells by the seashore\", \"seashells\", \"donuts\")) \n",
    "# Should display \"She sells seashells by the seashore\"\n",
    "print(replace_ending(\"The weather is nice in May\", \"may\", \"april\")) \n",
    "# Should display \"The weather is nice in May\"\n",
    "print(replace_ending(\"The weather is nice in May\", \"May\", \"April\")) \n",
    "# Should display \"The weather is nice in April\""
   ]
  },
  {
   "cell_type": "markdown",
   "id": "1ddd44d4",
   "metadata": {},
   "source": [
    "Solution:"
   ]
  },
  {
   "cell_type": "code",
   "execution_count": 18,
   "id": "b28a6a50",
   "metadata": {},
   "outputs": [
    {
     "name": "stdout",
     "output_type": "stream",
     "text": [
      "It's raining cats and dogs\n",
      "She sells seashells by the seashore\n",
      "The weather is nice in May\n",
      "The weather is nice in April\n"
     ]
    }
   ],
   "source": [
    "def replace_ending(sentence, old, new):\n",
    "\tsen_split = sentence.split()\n",
    "\t# Check if the old string is at the end of the sentence \n",
    "\tif sen_split[-1] == old:\n",
    "\t\t# Using i as the slicing index, combine the part\n",
    "\t\t# of the sentence up to the matched string at the \n",
    "\t\t# end with the new string\n",
    "\t\ti = len(old)\n",
    "\t\tnew_sentence = sentence[:-i] + new\n",
    "\t\treturn new_sentence\n",
    "\n",
    "\t# Return the original sentence if there is no match \n",
    "\treturn sentence\n",
    "\t\n",
    "print(replace_ending(\"It's raining cats and cats\", \"cats\", \"dogs\")) \n",
    "# Should display \"It's raining cats and dogs\"\n",
    "print(replace_ending(\"She sells seashells by the seashore\", \"seashells\", \"donuts\")) \n",
    "# Should display \"She sells seashells by the seashore\"\n",
    "print(replace_ending(\"The weather is nice in May\", \"may\", \"april\")) \n",
    "# Should display \"The weather is nice in May\"\n",
    "print(replace_ending(\"The weather is nice in May\", \"May\", \"April\")) \n",
    "# Should display \"The weather is nice in April\""
   ]
  },
  {
   "cell_type": "markdown",
   "id": "0b87394f",
   "metadata": {},
   "source": [
    "### 15"
   ]
  },
  {
   "cell_type": "markdown",
   "id": "6bf4bc79",
   "metadata": {},
   "source": [
    "Using the \"split\" string method from the preceding lesson, complete the get_word function to return the {n}th word from a passed sentence. <br/>\n",
    "For example, get_word(\"This is a lesson about lists\", 4) should return \"lesson\", which is the 4th word in this sentence. <br/>\n",
    "Hint: remember that list indexes start at 0, not 1. "
   ]
  },
  {
   "cell_type": "code",
   "execution_count": null,
   "id": "1cbe0cc8",
   "metadata": {},
   "outputs": [],
   "source": [
    "def get_word(sentence, n):\n",
    "\t# Only proceed if n is positive \n",
    "\tif n > 0:\n",
    "\t\twords = ___\n",
    "\t\t# Only proceed if n is not more than the number of words \n",
    "\t\tif n <= len(words):\n",
    "\t\t\treturn(___)\n",
    "\treturn(\"\")\n",
    "\n",
    "print(get_word(\"This is a lesson about lists\", 4)) # Should print: lesson\n",
    "print(get_word(\"This is a lesson about lists\", -4)) # Nothing\n",
    "print(get_word(\"Now we are cooking!\", 1)) # Should print: Now\n",
    "print(get_word(\"Now we are cooking!\", 5)) # Nothing"
   ]
  },
  {
   "cell_type": "markdown",
   "id": "16e73637",
   "metadata": {},
   "source": [
    "Solution:"
   ]
  },
  {
   "cell_type": "code",
   "execution_count": 19,
   "id": "f030fe4e",
   "metadata": {},
   "outputs": [
    {
     "name": "stdout",
     "output_type": "stream",
     "text": [
      "lesson\n",
      "\n",
      "Now\n",
      "\n"
     ]
    }
   ],
   "source": [
    "def get_word(sentence, n):\n",
    "\t# Only proceed if n is positive \n",
    "\tif n > 0:\n",
    "\t\twords = sentence.split()\n",
    "\t\t# Only proceed if n is not more than the number of words \n",
    "\t\tif n <= len(words):\n",
    "\t\t\treturn words[n-1]\n",
    "\treturn(\"\")\n",
    "\n",
    "print(get_word(\"This is a lesson about lists\", 4)) # Should print: lesson\n",
    "print(get_word(\"This is a lesson about lists\", -4)) # Nothing\n",
    "print(get_word(\"Now we are cooking!\", 1)) # Should print: Now\n",
    "print(get_word(\"Now we are cooking!\", 5)) # Nothing"
   ]
  },
  {
   "cell_type": "markdown",
   "id": "0ffdffbc",
   "metadata": {},
   "source": [
    "### 16"
   ]
  },
  {
   "cell_type": "markdown",
   "id": "4e4aa737",
   "metadata": {},
   "source": [
    "The skip_elements function returns a list containing every other element from an input list, starting with the first element. <br/>\n",
    "Complete this function to do that, using the for loop to iterate through the input list."
   ]
  },
  {
   "cell_type": "code",
   "execution_count": null,
   "id": "efa5afd5",
   "metadata": {},
   "outputs": [],
   "source": [
    "def skip_elements(elements):\n",
    "\t# Initialize variables\n",
    "\tnew_list = []\n",
    "\ti = 0\n",
    "\n",
    "\t# Iterate through the list\n",
    "\tfor ___\n",
    "\t\t# Does this element belong in the resulting list?\n",
    "\t\tif ___\n",
    "\t\t\t# Add this element to the resulting list\n",
    "\t\t\t___\n",
    "\t\t# Increment i\n",
    "\t\t___\n",
    "\n",
    "\treturn ___\n",
    "\n",
    "print(skip_elements([\"a\", \"b\", \"c\", \"d\", \"e\", \"f\", \"g\"])) # Should be ['a', 'c', 'e', 'g']\n",
    "print(skip_elements(['Orange', 'Pineapple', 'Strawberry', 'Kiwi', 'Peach'])) # Should be ['Orange', 'Strawberry', 'Peach']\n",
    "print(skip_elements([])) # Should be []"
   ]
  },
  {
   "cell_type": "markdown",
   "id": "b8a6bfe6",
   "metadata": {},
   "source": [
    "Solution:"
   ]
  },
  {
   "cell_type": "code",
   "execution_count": 20,
   "id": "ad43a2b4",
   "metadata": {},
   "outputs": [
    {
     "name": "stdout",
     "output_type": "stream",
     "text": [
      "['a', 'c', 'e', 'g']\n",
      "['Orange', 'Strawberry', 'Peach']\n",
      "[]\n"
     ]
    }
   ],
   "source": [
    "def skip_elements(elements):\n",
    "    # Initialize variables\n",
    "    new_list = []\n",
    "    i = 0\n",
    "\n",
    "    # Iterate through the list\n",
    "    for ele in elements:\n",
    "        # Does this element belong in the resulting list?\n",
    "        if i % 2 == 0:\n",
    "            # Add this element to the resulting list\n",
    "            new_list.append(ele)\n",
    "        # Increment i\n",
    "        i += 1\n",
    "\n",
    "    return new_list\n",
    "\n",
    "\n",
    "# Should be ['a', 'c', 'e', 'g']\n",
    "print(skip_elements([\"a\", \"b\", \"c\", \"d\", \"e\", \"f\", \"g\"]))\n",
    "# Should be ['Orange', 'Strawberry', 'Peach']\n",
    "print(skip_elements(['Orange', 'Pineapple', 'Strawberry', 'Kiwi', 'Peach']))\n",
    "print(skip_elements([]))  # Should be []"
   ]
  },
  {
   "cell_type": "markdown",
   "id": "b9d96d61",
   "metadata": {},
   "source": [
    "### 17"
   ]
  },
  {
   "cell_type": "markdown",
   "id": "b33e12fe",
   "metadata": {},
   "source": [
    "The odd_numbers function returns a list of odd numbers between 1 and n, inclusively. <br/>\n",
    "Fill in the blanks in the function, using list comprehension.<br/>\n",
    "Hint: remember that list and range counters start at 0 and end at the limit minus 1."
   ]
  },
  {
   "cell_type": "code",
   "execution_count": null,
   "id": "7780e5c5",
   "metadata": {},
   "outputs": [],
   "source": [
    "def odd_numbers(n):\n",
    "\treturn [x for x in ___ if ___]\n",
    "\n",
    "print(odd_numbers(5))  # Should print [1, 3, 5]\n",
    "print(odd_numbers(10)) # Should print [1, 3, 5, 7, 9]\n",
    "print(odd_numbers(11)) # Should print [1, 3, 5, 7, 9, 11]\n",
    "print(odd_numbers(1))  # Should print [1]\n",
    "print(odd_numbers(-1)) # Should print []"
   ]
  },
  {
   "cell_type": "markdown",
   "id": "694f49bb",
   "metadata": {},
   "source": [
    "Solution:"
   ]
  },
  {
   "cell_type": "code",
   "execution_count": 21,
   "id": "e8b6d2a2",
   "metadata": {},
   "outputs": [
    {
     "name": "stdout",
     "output_type": "stream",
     "text": [
      "[1, 3, 5]\n",
      "[1, 3, 5, 7, 9]\n",
      "[1, 3, 5, 7, 9, 11]\n",
      "[1]\n",
      "[]\n"
     ]
    }
   ],
   "source": [
    "def odd_numbers(n):\n",
    "\treturn [x for x in range(n+1) if x % 2 != 0]\n",
    "\n",
    "print(odd_numbers(5))  # Should print [1, 3, 5]\n",
    "print(odd_numbers(10)) # Should print [1, 3, 5, 7, 9]\n",
    "print(odd_numbers(11)) # Should print [1, 3, 5, 7, 9, 11]\n",
    "print(odd_numbers(1))  # Should print [1]\n",
    "print(odd_numbers(-1)) # Should print []"
   ]
  },
  {
   "cell_type": "markdown",
   "id": "828f329d",
   "metadata": {},
   "source": [
    "### 18"
   ]
  },
  {
   "cell_type": "markdown",
   "id": "3d334521",
   "metadata": {},
   "source": [
    "Given a list of filenames, we want to rename all the files with extension hpp to the extension h. <br/>\n",
    "To do this, we would like to generate a new list called newfilenames, consisting of the new filenames. <br/>\n",
    "Fill in the blanks in the code using any of the methods you’ve learned thus far, like a for loop or a list comprehension."
   ]
  },
  {
   "cell_type": "code",
   "execution_count": null,
   "id": "e179ff0c",
   "metadata": {},
   "outputs": [],
   "source": [
    "filenames = [\"program.c\", \"stdio.hpp\", \"sample.hpp\", \"a.out\", \"math.hpp\", \"hpp.out\"]\n",
    "# Generate newfilenames as a list containing the new filenames\n",
    "# using as many lines of code as your chosen method requires.\n",
    "___  \n",
    "\n",
    "print(newfilenames) \n",
    "# Should be [\"program.c\", \"stdio.h\", \"sample.h\", \"a.out\", \"math.h\", \"hpp.out\"]"
   ]
  },
  {
   "cell_type": "markdown",
   "id": "4faafb69",
   "metadata": {},
   "source": [
    "Solution:"
   ]
  },
  {
   "cell_type": "code",
   "execution_count": 22,
   "id": "71660787",
   "metadata": {},
   "outputs": [
    {
     "name": "stdout",
     "output_type": "stream",
     "text": [
      "['program.c', 'stdio.h', 'sample.h', 'a.out', 'math.h', 'hpp.out']\n"
     ]
    }
   ],
   "source": [
    "filenames = [\"program.c\", \"stdio.hpp\", \"sample.hpp\", \"a.out\", \"math.hpp\", \"hpp.out\"]\n",
    "# Generate newfilenames as a list containing the new filenames\n",
    "# using as many lines of code as your chosen method requires.\n",
    "newfilenames = []\n",
    "for i in filenames:\n",
    "    if i.endswith(\"hpp\"):\n",
    "        i = i.replace(\"hpp\", \"h\")\n",
    "        newfilenames.append(i)\n",
    "    else:\n",
    "        newfilenames.append(i)\n",
    "\n",
    "print(newfilenames) \n",
    "# Should be [\"program.c\", \"stdio.h\", \"sample.h\", \"a.out\", \"math.h\", \"hpp.out\"]"
   ]
  },
  {
   "cell_type": "markdown",
   "id": "cfd0ec83",
   "metadata": {},
   "source": [
    "### 19"
   ]
  },
  {
   "cell_type": "markdown",
   "id": "b738ff3d",
   "metadata": {},
   "source": [
    "Let's create a function that turns text into pig latin: a simple text transformation that modifies each word moving the first character to the end and appending \"ay\" to the end. <br/>\n",
    "For example, python ends up as ythonpay."
   ]
  },
  {
   "cell_type": "code",
   "execution_count": null,
   "id": "cc6a19d0",
   "metadata": {},
   "outputs": [],
   "source": [
    "def pig_latin(text):\n",
    "  say = \"\"\n",
    "  # Separate the text into words\n",
    "  words = ___\n",
    "  for word in words:\n",
    "    # Create the pig latin word and add it to the list\n",
    "    ___\n",
    "    # Turn the list back into a phrase\n",
    "  return ___\n",
    "\t\t\n",
    "print(pig_latin(\"hello how are you\")) # Should be \"ellohay owhay reaay ouyay\"\n",
    "print(pig_latin(\"programming in python is fun\")) # Should be \"rogrammingpay niay ythonpay siay unfay\""
   ]
  },
  {
   "cell_type": "markdown",
   "id": "72cbfbe2",
   "metadata": {},
   "source": [
    "Solution:"
   ]
  },
  {
   "cell_type": "code",
   "execution_count": 24,
   "id": "cf1cb420",
   "metadata": {},
   "outputs": [
    {
     "name": "stdout",
     "output_type": "stream",
     "text": [
      "ellohay owhay reaay ouyay\n",
      "rogrammingpay niay ythonpay siay unfay\n"
     ]
    }
   ],
   "source": [
    "def pig_latin(text):\n",
    "  words = text.split()\n",
    "  pigged_text = []\n",
    "\n",
    "  for word in words:\n",
    "    word = word[1:] + word[0] + \"ay\"\n",
    "    pigged_text.append(word)\n",
    "\n",
    "  return \" \".join(pigged_text)\n",
    "\n",
    "print(pig_latin(\"hello how are you\"))\n",
    "print(pig_latin(\"programming in python is fun\")) # Should be \"rogrammingpay niay ythonpay siay unfay\""
   ]
  },
  {
   "cell_type": "markdown",
   "id": "b5bc778a",
   "metadata": {},
   "source": [
    "### 20"
   ]
  },
  {
   "cell_type": "markdown",
   "id": "94c5caa9",
   "metadata": {},
   "source": [
    "The format_address function separates out parts of the address string into new strings: house_number and street_name, and returns: \"house number X on street named Y\". <br/>\n",
    "The format of the input string is: numeric house number, followed by the street name which may contain numbers, but never by themselves, and could be several words long. <br/>\n",
    "For example, \"123 Main Street\", \"1001 1st Ave\", or \"55 North Center Drive\". <br/>\n",
    "Fill in the gaps to complete this function."
   ]
  },
  {
   "cell_type": "code",
   "execution_count": null,
   "id": "8893e0f3",
   "metadata": {},
   "outputs": [],
   "source": [
    "def format_address(address_string):\n",
    "  # Declare variables\n",
    "\n",
    "  # Separate the address string into parts\n",
    "\n",
    "  # Traverse through the address parts\n",
    "  for __:\n",
    "    # Determine if the address part is the\n",
    "    # house number or part of the street name\n",
    "\n",
    "  # Does anything else need to be done \n",
    "  # before returning the result?\n",
    "  \n",
    "  # Return the formatted string  \n",
    "  return \"house number {} on street named {}\".format(__)\n",
    "\n",
    "print(format_address(\"123 Main Street\"))\n",
    "# Should print: \"house number 123 on street named Main Street\"\n",
    "\n",
    "print(format_address(\"1001 1st Ave\"))\n",
    "# Should print: \"house number 1001 on street named 1st Ave\"\n",
    "\n",
    "print(format_address(\"55 North Center Drive\"))\n",
    "# Should print \"house number 55 on street named North Center Drive\""
   ]
  },
  {
   "cell_type": "markdown",
   "id": "a3d6f1af",
   "metadata": {},
   "source": [
    "Solution:"
   ]
  },
  {
   "cell_type": "code",
   "execution_count": 25,
   "id": "55d3bf47",
   "metadata": {},
   "outputs": [
    {
     "name": "stdout",
     "output_type": "stream",
     "text": [
      "house number 123 on street named Main Street \n",
      "house number 1001 on street named 1st Ave \n",
      "house number 55 on street named North Center Drive \n"
     ]
    }
   ],
   "source": [
    "def format_address(address_string):\n",
    "  # Declare variables\n",
    "  house_num = \"\"\n",
    "  street_name = \"\"\n",
    "  # Separate the address string into parts\n",
    "  address_sep = address_string.split(\" \")\n",
    "  # Traverse through the address parts\n",
    "  for i in address_sep:\n",
    "    # Determine if the address part is the\n",
    "    # house number or part of the street name\n",
    "    if (i.isdigit()):\n",
    "      house_num = i\n",
    "    else:\n",
    "      street_name += i\n",
    "      street_name += \" \"\n",
    "  # Does anything else need to be done \n",
    "  # before returning the result?\n",
    "  \n",
    "  # Return the formatted string  \n",
    "  return \"house number {} on street named {}\".format(house_num, street_name)\n",
    "\n",
    "print(format_address(\"123 Main Street\"))\n",
    "# Should print: \"house number 123 on street named Main Street\"\n",
    "\n",
    "print(format_address(\"1001 1st Ave\"))\n",
    "# Should print: \"house number 1001 on street named 1st Ave\"\n",
    "\n",
    "print(format_address(\"55 North Center Drive\"))\n",
    "# Should print \"house number 55 on street named North Center Drive\""
   ]
  }
 ],
 "metadata": {
  "kernelspec": {
   "display_name": "Python 3 (ipykernel)",
   "language": "python",
   "name": "python3"
  },
  "language_info": {
   "codemirror_mode": {
    "name": "ipython",
    "version": 3
   },
   "file_extension": ".py",
   "mimetype": "text/x-python",
   "name": "python",
   "nbconvert_exporter": "python",
   "pygments_lexer": "ipython3",
   "version": "3.9.12"
  }
 },
 "nbformat": 4,
 "nbformat_minor": 5
}
